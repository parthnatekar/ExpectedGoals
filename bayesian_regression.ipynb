{
 "cells": [
  {
   "cell_type": "code",
   "execution_count": null,
   "outputs": [],
   "source": [
    "# from build_model import BayesianModel, DataGenerator\n",
    "# import pandas as pd\n",
    "# dataframe = pd.read_csv('~/UCSD/Projects/ExpectedGoals/data/Big52020-21_Outfield.csv')\n",
    "# dataframe2 = pd.read_csv('~/UCSD/Projects/ExpectedGoals/data/Euro2021_Outfield.csv')\n",
    "# L = DataGenerator(dataframe, dataframe2)"
   ],
   "metadata": {
    "collapsed": false
   }
  },
  {
   "cell_type": "code",
   "execution_count": null,
   "outputs": [],
   "source": [
    "# BM = BayesianModel(L)\n",
    "# BM.L.merged.describe()"
   ],
   "metadata": {
    "collapsed": false
   }
  },
  {
   "cell_type": "code",
   "execution_count": null,
   "outputs": [],
   "source": [
    "# club_model = BM.buildClubModel()"
   ],
   "metadata": {
    "collapsed": false
   }
  },
  {
   "cell_type": "code",
   "execution_count": null,
   "outputs": [],
   "source": [
    "# BM.L.merged.isna().sum()"
   ],
   "metadata": {
    "collapsed": false
   }
  },
  {
   "cell_type": "code",
   "execution_count": 3,
   "outputs": [
    {
     "data": {
      "text/plain": "               xg        npxg   xg_assist         sca  passes_pct  \\\ncount  177.000000  177.000000  177.000000  177.000000  177.000000   \nmean     0.144576    0.136215    0.108757    1.995480   88.060452   \nstd      0.088478    0.084092    0.064408    0.763501    2.420959   \nmin      0.010000    0.010000    0.010000    0.600000   80.800000   \n25%      0.080000    0.070000    0.060000    1.400000   86.900000   \n50%      0.120000    0.120000    0.090000    1.900000   88.500000   \n75%      0.200000    0.190000    0.150000    2.500000   89.900000   \nmax      0.520000    0.520000    0.320000    4.100000   92.600000   \n\n       progressive_passes       saves     tackles  interceptions           y  \ncount          177.000000  177.000000  177.000000     177.000000  177.000000  \nmean             3.015819   65.068362    1.667180       1.226502    0.610169  \nstd              0.998566   23.396572    0.482978       0.374968    0.479238  \nmin              1.100000    0.000000    0.545455       0.272727    0.000000  \n25%              2.300000   50.000000    1.363636       0.909091    0.200000  \n50%              2.900000   66.700000    1.636364       1.181818    0.500000  \n75%              3.600000   81.800000    2.000000       1.454545    0.900000  \nmax              6.300000  100.000000    3.181818       2.272727    2.200000  ",
      "text/html": "<div>\n<style scoped>\n    .dataframe tbody tr th:only-of-type {\n        vertical-align: middle;\n    }\n\n    .dataframe tbody tr th {\n        vertical-align: top;\n    }\n\n    .dataframe thead th {\n        text-align: right;\n    }\n</style>\n<table border=\"1\" class=\"dataframe\">\n  <thead>\n    <tr style=\"text-align: right;\">\n      <th></th>\n      <th>xg</th>\n      <th>npxg</th>\n      <th>xg_assist</th>\n      <th>sca</th>\n      <th>passes_pct</th>\n      <th>progressive_passes</th>\n      <th>saves</th>\n      <th>tackles</th>\n      <th>interceptions</th>\n      <th>y</th>\n    </tr>\n  </thead>\n  <tbody>\n    <tr>\n      <th>count</th>\n      <td>177.000000</td>\n      <td>177.000000</td>\n      <td>177.000000</td>\n      <td>177.000000</td>\n      <td>177.000000</td>\n      <td>177.000000</td>\n      <td>177.000000</td>\n      <td>177.000000</td>\n      <td>177.000000</td>\n      <td>177.000000</td>\n    </tr>\n    <tr>\n      <th>mean</th>\n      <td>0.144576</td>\n      <td>0.136215</td>\n      <td>0.108757</td>\n      <td>1.995480</td>\n      <td>88.060452</td>\n      <td>3.015819</td>\n      <td>65.068362</td>\n      <td>1.667180</td>\n      <td>1.226502</td>\n      <td>0.610169</td>\n    </tr>\n    <tr>\n      <th>std</th>\n      <td>0.088478</td>\n      <td>0.084092</td>\n      <td>0.064408</td>\n      <td>0.763501</td>\n      <td>2.420959</td>\n      <td>0.998566</td>\n      <td>23.396572</td>\n      <td>0.482978</td>\n      <td>0.374968</td>\n      <td>0.479238</td>\n    </tr>\n    <tr>\n      <th>min</th>\n      <td>0.010000</td>\n      <td>0.010000</td>\n      <td>0.010000</td>\n      <td>0.600000</td>\n      <td>80.800000</td>\n      <td>1.100000</td>\n      <td>0.000000</td>\n      <td>0.545455</td>\n      <td>0.272727</td>\n      <td>0.000000</td>\n    </tr>\n    <tr>\n      <th>25%</th>\n      <td>0.080000</td>\n      <td>0.070000</td>\n      <td>0.060000</td>\n      <td>1.400000</td>\n      <td>86.900000</td>\n      <td>2.300000</td>\n      <td>50.000000</td>\n      <td>1.363636</td>\n      <td>0.909091</td>\n      <td>0.200000</td>\n    </tr>\n    <tr>\n      <th>50%</th>\n      <td>0.120000</td>\n      <td>0.120000</td>\n      <td>0.090000</td>\n      <td>1.900000</td>\n      <td>88.500000</td>\n      <td>2.900000</td>\n      <td>66.700000</td>\n      <td>1.636364</td>\n      <td>1.181818</td>\n      <td>0.500000</td>\n    </tr>\n    <tr>\n      <th>75%</th>\n      <td>0.200000</td>\n      <td>0.190000</td>\n      <td>0.150000</td>\n      <td>2.500000</td>\n      <td>89.900000</td>\n      <td>3.600000</td>\n      <td>81.800000</td>\n      <td>2.000000</td>\n      <td>1.454545</td>\n      <td>0.900000</td>\n    </tr>\n    <tr>\n      <th>max</th>\n      <td>0.520000</td>\n      <td>0.520000</td>\n      <td>0.320000</td>\n      <td>4.100000</td>\n      <td>92.600000</td>\n      <td>6.300000</td>\n      <td>100.000000</td>\n      <td>3.181818</td>\n      <td>2.272727</td>\n      <td>2.200000</td>\n    </tr>\n  </tbody>\n</table>\n</div>"
     },
     "execution_count": 3,
     "metadata": {},
     "output_type": "execute_result"
    }
   ],
   "source": [
    "import pandas as pd\n",
    "stats = ['xg', 'npxg', 'xg_assist', 'sca', 'passes_pct', 'progressive_passes', 'saves', 'tackles', 'interceptions', 'y']\n",
    "club_data = pd.read_csv('Messi_club_all.csv')[stats]\n",
    "club_data.describe()"
   ],
   "metadata": {
    "collapsed": false
   }
  },
  {
   "cell_type": "code",
   "execution_count": 4,
   "outputs": [
    {
     "data": {
      "text/plain": "              xg       npxg  xg_assist        sca  passes_pct  \\\ncount  18.000000  18.000000  18.000000  18.000000   18.000000   \nmean    0.152222   0.151667   0.075000   1.722222   82.666667   \nstd     0.100209   0.100367   0.045277   0.705070    4.207836   \nmin     0.020000   0.020000   0.010000   0.700000   74.900000   \n25%     0.075000   0.075000   0.040000   1.125000   79.775000   \n50%     0.130000   0.125000   0.065000   1.900000   82.500000   \n75%     0.232500   0.232500   0.117500   2.075000   84.200000   \nmax     0.380000   0.380000   0.150000   3.100000   91.000000   \n\n       progressive_passes       saves    tackles  interceptions          y  \ncount           18.000000   18.000000  18.000000      18.000000  18.000000  \nmean             2.022222   73.350000   1.631313       0.898990   0.494444  \nstd              0.587673   23.737343   0.391291       0.386813   0.439883  \nmin              1.300000    0.000000   0.636364       0.454545   0.000000  \n25%              1.625000   66.700000   1.545455       0.545455   0.100000  \n50%              1.900000   75.950000   1.636364       0.727273   0.350000  \n75%              2.325000   82.925000   1.886364       1.181818   0.875000  \nmax              3.200000  100.000000   2.181818       1.636364   1.300000  ",
      "text/html": "<div>\n<style scoped>\n    .dataframe tbody tr th:only-of-type {\n        vertical-align: middle;\n    }\n\n    .dataframe tbody tr th {\n        vertical-align: top;\n    }\n\n    .dataframe thead th {\n        text-align: right;\n    }\n</style>\n<table border=\"1\" class=\"dataframe\">\n  <thead>\n    <tr style=\"text-align: right;\">\n      <th></th>\n      <th>xg</th>\n      <th>npxg</th>\n      <th>xg_assist</th>\n      <th>sca</th>\n      <th>passes_pct</th>\n      <th>progressive_passes</th>\n      <th>saves</th>\n      <th>tackles</th>\n      <th>interceptions</th>\n      <th>y</th>\n    </tr>\n  </thead>\n  <tbody>\n    <tr>\n      <th>count</th>\n      <td>18.000000</td>\n      <td>18.000000</td>\n      <td>18.000000</td>\n      <td>18.000000</td>\n      <td>18.000000</td>\n      <td>18.000000</td>\n      <td>18.000000</td>\n      <td>18.000000</td>\n      <td>18.000000</td>\n      <td>18.000000</td>\n    </tr>\n    <tr>\n      <th>mean</th>\n      <td>0.152222</td>\n      <td>0.151667</td>\n      <td>0.075000</td>\n      <td>1.722222</td>\n      <td>82.666667</td>\n      <td>2.022222</td>\n      <td>73.350000</td>\n      <td>1.631313</td>\n      <td>0.898990</td>\n      <td>0.494444</td>\n    </tr>\n    <tr>\n      <th>std</th>\n      <td>0.100209</td>\n      <td>0.100367</td>\n      <td>0.045277</td>\n      <td>0.705070</td>\n      <td>4.207836</td>\n      <td>0.587673</td>\n      <td>23.737343</td>\n      <td>0.391291</td>\n      <td>0.386813</td>\n      <td>0.439883</td>\n    </tr>\n    <tr>\n      <th>min</th>\n      <td>0.020000</td>\n      <td>0.020000</td>\n      <td>0.010000</td>\n      <td>0.700000</td>\n      <td>74.900000</td>\n      <td>1.300000</td>\n      <td>0.000000</td>\n      <td>0.636364</td>\n      <td>0.454545</td>\n      <td>0.000000</td>\n    </tr>\n    <tr>\n      <th>25%</th>\n      <td>0.075000</td>\n      <td>0.075000</td>\n      <td>0.040000</td>\n      <td>1.125000</td>\n      <td>79.775000</td>\n      <td>1.625000</td>\n      <td>66.700000</td>\n      <td>1.545455</td>\n      <td>0.545455</td>\n      <td>0.100000</td>\n    </tr>\n    <tr>\n      <th>50%</th>\n      <td>0.130000</td>\n      <td>0.125000</td>\n      <td>0.065000</td>\n      <td>1.900000</td>\n      <td>82.500000</td>\n      <td>1.900000</td>\n      <td>75.950000</td>\n      <td>1.636364</td>\n      <td>0.727273</td>\n      <td>0.350000</td>\n    </tr>\n    <tr>\n      <th>75%</th>\n      <td>0.232500</td>\n      <td>0.232500</td>\n      <td>0.117500</td>\n      <td>2.075000</td>\n      <td>84.200000</td>\n      <td>2.325000</td>\n      <td>82.925000</td>\n      <td>1.886364</td>\n      <td>1.181818</td>\n      <td>0.875000</td>\n    </tr>\n    <tr>\n      <th>max</th>\n      <td>0.380000</td>\n      <td>0.380000</td>\n      <td>0.150000</td>\n      <td>3.100000</td>\n      <td>91.000000</td>\n      <td>3.200000</td>\n      <td>100.000000</td>\n      <td>2.181818</td>\n      <td>1.636364</td>\n      <td>1.300000</td>\n    </tr>\n  </tbody>\n</table>\n</div>"
     },
     "execution_count": 4,
     "metadata": {},
     "output_type": "execute_result"
    }
   ],
   "source": [
    "int_data = pd.read_csv('Messi_int.csv')[stats]\n",
    "int_data.describe()"
   ],
   "metadata": {
    "collapsed": false
   }
  },
  {
   "cell_type": "code",
   "execution_count": 17,
   "outputs": [
    {
     "name": "stderr",
     "output_type": "stream",
     "text": [
      "/Users/kamehameya/.conda/envs/Assignments/lib/python3.10/site-packages/sklearn/base.py:443: UserWarning: X has feature names, but StandardScaler was fitted without feature names\n",
      "  warnings.warn(\n",
      "/Users/kamehameya/.conda/envs/Assignments/lib/python3.10/site-packages/sklearn/base.py:443: UserWarning: X has feature names, but StandardScaler was fitted without feature names\n",
      "  warnings.warn(\n"
     ]
    }
   ],
   "source": [
    "from sklearn.model_selection import train_test_split\n",
    "X_train_club, X_test_club, y_train_club, y_test_club = train_test_split(club_data[stats[:-1]], club_data['y'], test_size=0.1)\n",
    "X_train_int, X_test_int, y_train_int, y_test_int = train_test_split(int_data[stats[:-1]], int_data['y'], test_size=0.4)\n",
    "from sklearn.preprocessing import StandardScaler\n",
    "scaler_club = StandardScaler()\n",
    "scaler_club.fit(X_train_club)\n",
    "X_train_club = scaler_club.transform(X_train_club)\n",
    "X_test_club = scaler_club.transform(X_test_club)\n",
    "\n",
    "scaler_int = StandardScaler()\n",
    "scaler_int.fit(X_train_club)\n",
    "X_train_int = scaler_int.transform(X_train_int)\n",
    "X_test_int = scaler_int.transform(X_test_int)\n",
    "from sklearn.decomposition import PCA\n",
    "pca=PCA(n_components=5)\n",
    "pca.fit(X_train_club)\n",
    "X_train_club = pca.transform(X_train_club)\n",
    "X_test_club = pca.transform(X_test_club)\n",
    "\n",
    "X_train_int = pca.transform(X_train_int)\n",
    "X_test_int = pca.transform(X_test_int)"
   ],
   "metadata": {
    "collapsed": false
   }
  },
  {
   "cell_type": "code",
   "execution_count": 31,
   "outputs": [
    {
     "data": {
      "text/plain": "(0.9195709118741742, -1.1846971137736193)"
     },
     "execution_count": 31,
     "metadata": {},
     "output_type": "execute_result"
    }
   ],
   "source": [
    "#from sklearn.mixture import BayesianGaussianMixture, GaussianMixture\n",
    "#gm = GaussianMixture(n_components=2).fit(X_train_club)\n",
    "\n",
    "from sklearn.neural_network import MLPRegressor\n",
    "nn = MLPRegressor(hidden_layer_sizes=[100, 50], max_iter=10000)\n",
    "nn.fit(X_train_club, y_train_club)\n",
    "nn.score(X_train_club, y_train_club), nn.score(X_test_club, y_test_club)"
   ],
   "metadata": {
    "collapsed": false
   }
  },
  {
   "cell_type": "code",
   "execution_count": 179,
   "outputs": [
    {
     "data": {
      "text/plain": "(0.07998903267802437, -0.08855298063133943)"
     },
     "execution_count": 179,
     "metadata": {},
     "output_type": "execute_result"
    }
   ],
   "source": [
    "from sklearn.linear_model import BayesianRidge\n",
    "BR = BayesianRidge()\n",
    "BR.fit(X_train_club, y_train_club)\n",
    "BR.score(X_train_club, y_train_club), BR.score(X_test_club, y_test_club)\n"
   ],
   "metadata": {
    "collapsed": false
   }
  },
  {
   "cell_type": "code",
   "execution_count": 180,
   "outputs": [
    {
     "data": {
      "text/plain": "(0.08497460519946387, -0.09920750631070252)"
     },
     "execution_count": 180,
     "metadata": {},
     "output_type": "execute_result"
    }
   ],
   "source": [
    "from sklearn.linear_model import ARDRegression\n",
    "AR = ARDRegression()\n",
    "AR.fit(X_train_club, y_train_club)\n",
    "AR.score(X_train_club, y_train_club), AR.score(X_test_club, y_test_club)"
   ],
   "metadata": {
    "collapsed": false
   }
  },
  {
   "cell_type": "code",
   "execution_count": 12,
   "outputs": [
    {
     "data": {
      "text/plain": "[array([[-0.080984  ,  0.11266631,  0.14252298, -0.29613017,  0.03974388,\n         -0.04137583, -0.14980066,  0.15829608,  0.24246764,  0.17148904,\n         -0.20097036, -0.10670695,  0.44096815, -0.21657104,  0.32557262,\n         -0.14887007, -0.42125723, -0.42858851,  0.42301267,  0.3050535 ,\n         -0.17454565,  0.40172249,  0.21247926,  0.26676153,  0.3438597 ,\n         -0.02251666, -0.4501735 , -0.22518904,  0.30904473,  0.27253385,\n         -0.1463598 , -0.34235897, -0.4032094 , -0.08083134,  0.23965266,\n          0.22916818, -0.10821943, -0.40076883,  0.04329094,  0.25963283,\n          0.38232549, -0.37934047,  0.16644979,  0.35863581, -0.24257929,\n          0.2041143 , -0.22602737,  0.18407744, -0.09566092,  0.14909186],\n        [-0.02477959, -0.00688765, -0.03379598, -0.08984971,  0.10592489,\n         -0.03302333, -0.51990183, -0.13885167, -0.27617627,  0.37999883,\n         -0.1808758 ,  0.28272322,  0.06324055, -0.38339223, -0.31791826,\n          0.33976976, -0.2644605 ,  0.1057301 ,  0.19160542,  0.26772931,\n         -0.19581393, -0.08039264,  0.09134259, -0.34429384,  0.20382064,\n         -0.36041904, -0.21772519,  0.30222747,  0.03182422, -0.04956581,\n          0.04180588, -0.28679146,  0.27411992,  0.09507246,  0.30816429,\n          0.18000258, -0.23201556, -0.11386655,  0.09996733, -0.05936057,\n         -0.20341209, -0.30077667, -0.25707442,  0.32273133,  0.2574756 ,\n         -0.32709124, -0.04481654,  0.42659174,  0.47431612, -0.1046097 ],\n        [-0.24477983, -0.37184891, -0.03817083, -0.25927952,  0.48924068,\n          0.05594879, -0.09504724, -0.02226614,  0.22199937,  0.17722499,\n          0.20685262,  0.40721674,  0.23940121, -0.42558589,  0.01806302,\n         -0.18940457,  0.10676905, -0.31745739,  0.21647591,  0.25174344,\n          0.23207712, -0.09437004, -0.13957138,  0.01684748, -0.41584315,\n          0.1757444 , -0.03455435, -0.09152406, -0.17855092, -0.3495629 ,\n         -0.4257497 , -0.22327725, -0.07294992, -0.03978931, -0.13636598,\n          0.23672845,  0.20771156, -0.10895428,  0.31581456, -0.06485334,\n         -0.16997421, -0.08257099, -0.23757014,  0.22690696, -0.13226778,\n         -0.28037739,  0.32477639, -0.40699688,  0.16836273, -0.21785675],\n        [-0.03443826, -0.3495733 ,  0.00997906,  0.48193169,  0.1479294 ,\n          0.26690967,  0.16710788,  0.1645101 , -0.19944617,  0.05133779,\n         -0.07117031, -0.29163709, -0.22613503, -0.01806051,  0.3772677 ,\n          0.18082382,  0.03959287, -0.23446218,  0.24250677, -0.40010962,\n          0.09411089, -0.18084058, -0.44542401, -0.16181809, -0.11886556,\n          0.05136783,  0.00509566, -0.30781648, -0.32796159,  0.19133696,\n         -0.33727421,  0.4031376 ,  0.11128317, -0.52903837,  0.31552307,\n         -0.13728208,  0.21023031,  0.1953355 ,  0.44387325, -0.04785512,\n         -0.21044281, -0.02924754, -0.33774476, -0.0441091 , -0.00402087,\n         -0.28971619, -0.25255608,  0.03351727, -0.03760587, -0.03959558],\n        [-0.24514134, -0.24017438,  0.2114011 , -0.38371835,  0.01981529,\n          0.3605937 , -0.32571451, -0.29443317, -0.25775316, -0.0099872 ,\n          0.31640972,  0.54615117, -0.20621272,  0.22322144,  0.16954567,\n         -0.17172308,  0.23831479, -0.0182519 , -0.20667785,  0.13860032,\n          0.24282104, -0.33359151,  0.05192481,  0.0601386 ,  0.09163542,\n          0.02114411,  0.24280958,  0.00726511,  0.19205039,  0.21718171,\n          0.27594944,  0.03697482,  0.01378259, -0.01637157, -0.09158805,\n         -0.28175067, -0.47285466, -0.24883961, -0.01052633,  0.15692058,\n         -0.03018301,  0.05472182, -0.12625476,  0.51448718, -0.16184613,\n          0.14493177,  0.15975582, -0.09801134,  0.09515078,  0.06844959]]),\n array([[-0.11277917,  0.07952228,  0.14251019, ..., -0.02506918,\n          0.1415279 ,  0.11355976],\n        [ 0.20964071,  0.06187579,  0.18052383, ..., -0.38910012,\n          0.20529864,  0.27038336],\n        [-0.0047775 ,  0.23613743,  0.25431357, ..., -0.14425045,\n          0.17614322,  0.04083404],\n        ...,\n        [ 0.26693083, -0.48684326,  0.0183548 , ...,  0.32809752,\n          0.09143622, -0.04665723],\n        [ 0.01583412,  0.1765241 , -0.00692159, ..., -0.41552458,\n          0.12332431,  0.02996405],\n        [-0.07304419,  0.15622565,  0.17628166, ...,  0.00851892,\n          0.0048117 ,  0.12435735]]),\n array([[ 0.09355814],\n        [-0.13809479],\n        [-0.33901509],\n        [ 0.51403143],\n        [-0.3137148 ],\n        [-0.06505387],\n        [-0.27110524],\n        [ 0.32126739],\n        [-0.40814864],\n        [ 0.34435187],\n        [-0.34368675],\n        [ 0.10844009],\n        [ 0.29902938],\n        [ 0.22047556],\n        [ 0.54070703],\n        [ 0.37129893],\n        [ 0.20628201],\n        [ 0.24083701],\n        [-0.11766229],\n        [-0.38790643],\n        [ 0.09623985],\n        [ 0.29375088],\n        [ 0.25508974],\n        [ 0.51127763],\n        [-0.61742771],\n        [-0.3916751 ],\n        [ 0.20435537],\n        [ 0.41279516],\n        [-0.28661957],\n        [-0.38631748],\n        [-0.34721112],\n        [ 0.17926189],\n        [ 0.22588397],\n        [ 0.37611647],\n        [-0.3809    ],\n        [-0.1665574 ],\n        [ 0.08164508],\n        [ 0.35874236],\n        [-0.23212376],\n        [ 0.59008812]])]"
     },
     "execution_count": 12,
     "metadata": {},
     "output_type": "execute_result"
    }
   ],
   "source": [
    "nn.coefs_"
   ],
   "metadata": {
    "collapsed": false
   }
  },
  {
   "cell_type": "code",
   "execution_count": 19,
   "outputs": [
    {
     "data": {
      "text/plain": "(0.08189016570527341, -0.19427886686610618)"
     },
     "execution_count": 19,
     "metadata": {},
     "output_type": "execute_result"
    }
   ],
   "source": [
    "from sklearn.linear_model import LinearRegression\n",
    "LR = LinearRegression()\n",
    "LR.fit(X_train_club, y_train_club)\n",
    "LR.score(X_train_club, y_train_club), LR.score(X_test_club, y_test_club)\n"
   ],
   "metadata": {
    "collapsed": false
   }
  },
  {
   "cell_type": "code",
   "execution_count": 34,
   "outputs": [
    {
     "data": {
      "text/plain": "<class 'statsmodels.iolib.summary.Summary'>\n\"\"\"\n                                 OLS Regression Results                                \n=======================================================================================\nDep. Variable:                      y   R-squared (uncentered):                   0.692\nModel:                            OLS   Adj. R-squared (uncentered):              0.674\nMethod:                 Least Squares   F-statistic:                              37.46\nDate:                Sun, 11 Dec 2022   Prob (F-statistic):                    4.18e-34\nTime:                        19:15:49   Log-Likelihood:                         -92.219\nNo. Observations:                 159   AIC:                                      202.4\nDf Residuals:                     150   BIC:                                      230.1\nDf Model:                           9                                                  \nCovariance Type:            nonrobust                                                  \n======================================================================================\n                         coef    std err          t      P>|t|      [0.025      0.975]\n--------------------------------------------------------------------------------------\nxg                    -1.3173      1.362     -0.967      0.335      -4.008       1.373\nnpxg                  -1.0059      1.428     -0.704      0.482      -3.827       1.816\nxg_assist              3.7878      0.828      4.573      0.000       2.151       5.425\nsca                    0.0474      0.065      0.729      0.467      -0.081       0.176\npasses_pct            -0.0007      0.002     -0.298      0.766      -0.005       0.004\nprogressive_passes     0.0026      0.043      0.059      0.953      -0.083       0.088\nsaves                  0.0010      0.002      0.629      0.530      -0.002       0.004\ntackles                0.0787      0.076      1.034      0.303      -0.072       0.229\ninterceptions          0.2309      0.100      2.312      0.022       0.034       0.428\n==============================================================================\nOmnibus:                       25.519   Durbin-Watson:                   2.062\nProb(Omnibus):                  0.000   Jarque-Bera (JB):               32.655\nSkew:                           0.981   Prob(JB):                     8.11e-08\nKurtosis:                       4.037   Cond. No.                     6.02e+03\n==============================================================================\n\nNotes:\n[1] R² is computed without centering (uncentered) since the model does not contain a constant.\n[2] Standard Errors assume that the covariance matrix of the errors is correctly specified.\n[3] The condition number is large, 6.02e+03. This might indicate that there are\nstrong multicollinearity or other numerical problems.\n\"\"\"",
      "text/html": "<table class=\"simpletable\">\n<caption>OLS Regression Results</caption>\n<tr>\n  <th>Dep. Variable:</th>            <td>y</td>        <th>  R-squared (uncentered):</th>      <td>   0.692</td>\n</tr>\n<tr>\n  <th>Model:</th>                   <td>OLS</td>       <th>  Adj. R-squared (uncentered):</th> <td>   0.674</td>\n</tr>\n<tr>\n  <th>Method:</th>             <td>Least Squares</td>  <th>  F-statistic:       </th>          <td>   37.46</td>\n</tr>\n<tr>\n  <th>Date:</th>             <td>Sun, 11 Dec 2022</td> <th>  Prob (F-statistic):</th>          <td>4.18e-34</td>\n</tr>\n<tr>\n  <th>Time:</th>                 <td>19:15:49</td>     <th>  Log-Likelihood:    </th>          <td> -92.219</td>\n</tr>\n<tr>\n  <th>No. Observations:</th>      <td>   159</td>      <th>  AIC:               </th>          <td>   202.4</td>\n</tr>\n<tr>\n  <th>Df Residuals:</th>          <td>   150</td>      <th>  BIC:               </th>          <td>   230.1</td>\n</tr>\n<tr>\n  <th>Df Model:</th>              <td>     9</td>      <th>                     </th>              <td> </td>   \n</tr>\n<tr>\n  <th>Covariance Type:</th>      <td>nonrobust</td>    <th>                     </th>              <td> </td>   \n</tr>\n</table>\n<table class=\"simpletable\">\n<tr>\n           <td></td>             <th>coef</th>     <th>std err</th>      <th>t</th>      <th>P>|t|</th>  <th>[0.025</th>    <th>0.975]</th>  \n</tr>\n<tr>\n  <th>xg</th>                 <td>   -1.3173</td> <td>    1.362</td> <td>   -0.967</td> <td> 0.335</td> <td>   -4.008</td> <td>    1.373</td>\n</tr>\n<tr>\n  <th>npxg</th>               <td>   -1.0059</td> <td>    1.428</td> <td>   -0.704</td> <td> 0.482</td> <td>   -3.827</td> <td>    1.816</td>\n</tr>\n<tr>\n  <th>xg_assist</th>          <td>    3.7878</td> <td>    0.828</td> <td>    4.573</td> <td> 0.000</td> <td>    2.151</td> <td>    5.425</td>\n</tr>\n<tr>\n  <th>sca</th>                <td>    0.0474</td> <td>    0.065</td> <td>    0.729</td> <td> 0.467</td> <td>   -0.081</td> <td>    0.176</td>\n</tr>\n<tr>\n  <th>passes_pct</th>         <td>   -0.0007</td> <td>    0.002</td> <td>   -0.298</td> <td> 0.766</td> <td>   -0.005</td> <td>    0.004</td>\n</tr>\n<tr>\n  <th>progressive_passes</th> <td>    0.0026</td> <td>    0.043</td> <td>    0.059</td> <td> 0.953</td> <td>   -0.083</td> <td>    0.088</td>\n</tr>\n<tr>\n  <th>saves</th>              <td>    0.0010</td> <td>    0.002</td> <td>    0.629</td> <td> 0.530</td> <td>   -0.002</td> <td>    0.004</td>\n</tr>\n<tr>\n  <th>tackles</th>            <td>    0.0787</td> <td>    0.076</td> <td>    1.034</td> <td> 0.303</td> <td>   -0.072</td> <td>    0.229</td>\n</tr>\n<tr>\n  <th>interceptions</th>      <td>    0.2309</td> <td>    0.100</td> <td>    2.312</td> <td> 0.022</td> <td>    0.034</td> <td>    0.428</td>\n</tr>\n</table>\n<table class=\"simpletable\">\n<tr>\n  <th>Omnibus:</th>       <td>25.519</td> <th>  Durbin-Watson:     </th> <td>   2.062</td>\n</tr>\n<tr>\n  <th>Prob(Omnibus):</th> <td> 0.000</td> <th>  Jarque-Bera (JB):  </th> <td>  32.655</td>\n</tr>\n<tr>\n  <th>Skew:</th>          <td> 0.981</td> <th>  Prob(JB):          </th> <td>8.11e-08</td>\n</tr>\n<tr>\n  <th>Kurtosis:</th>      <td> 4.037</td> <th>  Cond. No.          </th> <td>6.02e+03</td>\n</tr>\n</table><br/><br/>Notes:<br/>[1] R² is computed without centering (uncentered) since the model does not contain a constant.<br/>[2] Standard Errors assume that the covariance matrix of the errors is correctly specified.<br/>[3] The condition number is large, 6.02e+03. This might indicate that there are<br/>strong multicollinearity or other numerical problems."
     },
     "execution_count": 34,
     "metadata": {},
     "output_type": "execute_result"
    }
   ],
   "source": [
    "import statsmodels.api as sm\n",
    "from sklearn.model_selection import train_test_split\n",
    "X_train_club, X_test_club, y_train_club, y_test_club = train_test_split(club_data[stats[:-1]], club_data['y'], test_size=0.1)\n",
    "X_train_int, X_test_int, y_train_int, y_test_int = train_test_split(int_data[stats[:-1]], int_data['y'], test_size=0.4)\n",
    "lm = sm.OLS(y_train_club, X_train_club)\n",
    "res = lm.fit()\n",
    "res.summary()"
   ],
   "metadata": {
    "collapsed": false
   }
  },
  {
   "cell_type": "code",
   "execution_count": null,
   "outputs": [],
   "source": [],
   "metadata": {
    "collapsed": false
   }
  }
 ],
 "metadata": {
  "kernelspec": {
   "display_name": "Python 3",
   "language": "python",
   "name": "python3"
  },
  "language_info": {
   "codemirror_mode": {
    "name": "ipython",
    "version": 2
   },
   "file_extension": ".py",
   "mimetype": "text/x-python",
   "name": "python",
   "nbconvert_exporter": "python",
   "pygments_lexer": "ipython2",
   "version": "2.7.6"
  }
 },
 "nbformat": 4,
 "nbformat_minor": 0
}
